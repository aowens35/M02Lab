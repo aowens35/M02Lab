{
 "cells": [
  {
   "cell_type": "code",
   "execution_count": null,
   "metadata": {},
   "outputs": [],
   "source": [
    "#Anjoli Owens\n",
    "#GPA.py\n",
    "#This program has the user enter a student's name and GPA,\n",
    "#then determines whether the student made the Honor Roll or Dean's List.\n",
    "\n",
    "count = 0\n",
    "\n",
    "while True:\n",
    "    lastname = str(input(\"Enter student's lastname or 'ZZZ' to quit: \"))\n",
    "    if lastname == \"ZZZ\":\n",
    "        break\n",
    "    firstname = str(input(\"Enter firstname: \"))\n",
    "    GPA = float(input(\"Enter GPA: \"))\n",
    "\n",
    "    if GPA >= 3.5 and GPA < 5.0:\n",
    "        print(lastname,\",\", firstname, \" has made Dean's List\")\n",
    "    if GPA >= 3.25 and GPA < 3.5:\n",
    "        print(lastname,\",\", firstname, \" has made the Honor Roll\")\n",
    "    elif GPA < 3.25:\n",
    "        print(lastname,\",\", firstname, \" has not made the Dean's List or the Honor Roll\")\n",
    "    count += 1"
   ]
  }
 ],
 "metadata": {
  "language_info": {
   "name": "python"
  },
  "orig_nbformat": 4
 },
 "nbformat": 4,
 "nbformat_minor": 2
}
