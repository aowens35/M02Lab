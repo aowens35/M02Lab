{
 "cells": [
  {
   "cell_type": "code",
   "execution_count": null,
   "metadata": {},
   "outputs": [],
   "source": [
    "#Anjoli Owens\n",
    "#GPA.py\n",
    "#This program has the user enter a student's name and GPA,\n",
    "#then determines whether the student made the Honor Roll or Dean's List.\n",
    "\n",
    "count = 0\n",
    "\n",
    "while True:\n",
    "    lastname = str(input(\"Enter student's lastname or 'zzz' to quit: \"))\n",
    "    if lastname == \"zzz\":\n",
    "        break\n",
    "    firstname = str(input(\"Enter firstname: \"))\n",
    "    GPA = float(input(\"Enter GPA: \"))\n",
    "\n",
    "    if GPA >= 3.5 and GPA <= 5.0:\n",
    "        print(lastname,\",\", firstname, \" has made Dean's List\")\n",
    "    elif GPA > 5.0:\n",
    "        print(\"invalid input\")\n",
    "    if GPA >= 3.25 and GPA < 3.5:\n",
    "        print(lastname,\",\", firstname, \" has made the Honor Roll\")\n",
    "    if GPA < 3.25 and GPA >= 0:\n",
    "        print(lastname,\",\",firstname,\",\",\"GPA:\",GPA)\n",
    "    elif GPA < 0:\n",
    "        print(\"invalid input\")\n",
    "    count += 1\n"
   ]
  }
 ],
 "metadata": {
  "kernelspec": {
   "display_name": "Python 3.11.0 64-bit",
   "language": "python",
   "name": "python3"
  },
  "language_info": {
   "name": "python",
   "version": "3.11.0"
  },
  "orig_nbformat": 4,
  "vscode": {
   "interpreter": {
    "hash": "83d9dbc64e29d41c50624375b455d24fdefe9aaaa317cb56df0869fc5a67ed2a"
   }
  }
 },
 "nbformat": 4,
 "nbformat_minor": 2
}
